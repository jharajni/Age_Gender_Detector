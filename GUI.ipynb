{
 "cells": [
  {
   "cell_type": "markdown",
   "id": "9806d8d8-3e58-4ab1-847b-e1b7e427d0b2",
   "metadata": {},
   "source": [
    "##### Importing necessary Libraries"
   ]
  },
  {
   "cell_type": "code",
   "execution_count": 1,
   "id": "2871383c-19fb-45f1-bfcb-74e8c7189d42",
   "metadata": {},
   "outputs": [],
   "source": [
    "import sys\n",
    "from PyQt5.QtWidgets import QApplication, QWidget, QLabel, QVBoxLayout, QPushButton, QFileDialog\n",
    "from PyQt5.QtCore import Qt\n",
    "from PyQt5.QtGui import QPixmap\n",
    "from keras import models\n",
    "from PIL import Image\n",
    "import numpy as np"
   ]
  },
  {
   "cell_type": "markdown",
   "id": "f66f003b-b81c-44f7-9f27-ee219b912206",
   "metadata": {},
   "source": [
    "##### LOAD THE MODEL "
   ]
  },
  {
   "cell_type": "code",
   "execution_count": 2,
   "id": "5215cdb8-72f6-471b-a8a6-52806309cafd",
   "metadata": {
    "jp-MarkdownHeadingCollapsed": true
   },
   "outputs": [
    {
     "name": "stdout",
     "output_type": "stream",
     "text": [
      "(48, 48, 3)\n",
      "\u001b[1m1/1\u001b[0m \u001b[32m━━━━━━━━━━━━━━━━━━━━\u001b[0m\u001b[37m\u001b[0m \u001b[1m1s\u001b[0m 778ms/step\n",
      "Predicted Age is : 29\n",
      "Predicted Gender is : Female\n"
     ]
    },
    {
     "name": "stderr",
     "output_type": "stream",
     "text": [
      "C:\\Users\\jhara\\AppData\\Local\\Temp\\ipykernel_29384\\1310373174.py:60: DeprecationWarning: Conversion of an array with ndim > 0 to a scalar is deprecated, and will error in future. Ensure you extract a single element from your array before performing this operation. (Deprecated NumPy 1.25.)\n",
      "  age = int(np.round(pred[1][0]))\n",
      "C:\\Users\\jhara\\AppData\\Local\\Temp\\ipykernel_29384\\1310373174.py:61: DeprecationWarning: Conversion of an array with ndim > 0 to a scalar is deprecated, and will error in future. Ensure you extract a single element from your array before performing this operation. (Deprecated NumPy 1.25.)\n",
      "  sex = int(np.round(pred[0][0]))\n"
     ]
    },
    {
     "name": "stdout",
     "output_type": "stream",
     "text": [
      "(48, 48, 3)\n",
      "\u001b[1m1/1\u001b[0m \u001b[32m━━━━━━━━━━━━━━━━━━━━\u001b[0m\u001b[37m\u001b[0m \u001b[1m0s\u001b[0m 28ms/step\n",
      "Predicted Age is : 89\n",
      "Predicted Gender is : Male\n",
      "(48, 48, 3)\n",
      "\u001b[1m1/1\u001b[0m \u001b[32m━━━━━━━━━━━━━━━━━━━━\u001b[0m\u001b[37m\u001b[0m \u001b[1m0s\u001b[0m 25ms/step\n",
      "Predicted Age is : 10\n",
      "Predicted Gender is : Female\n",
      "(48, 48, 3)\n",
      "\u001b[1m1/1\u001b[0m \u001b[32m━━━━━━━━━━━━━━━━━━━━\u001b[0m\u001b[37m\u001b[0m \u001b[1m0s\u001b[0m 27ms/step\n",
      "Predicted Age is : 28\n",
      "Predicted Gender is : Male\n",
      "(48, 48, 3)\n",
      "\u001b[1m1/1\u001b[0m \u001b[32m━━━━━━━━━━━━━━━━━━━━\u001b[0m\u001b[37m\u001b[0m \u001b[1m0s\u001b[0m 25ms/step\n",
      "Predicted Age is : 0\n",
      "Predicted Gender is : Female\n",
      "(48, 48, 3)\n",
      "\u001b[1m1/1\u001b[0m \u001b[32m━━━━━━━━━━━━━━━━━━━━\u001b[0m\u001b[37m\u001b[0m \u001b[1m0s\u001b[0m 22ms/step\n",
      "Predicted Age is : 52\n",
      "Predicted Gender is : Male\n"
     ]
    },
    {
     "ename": "SystemExit",
     "evalue": "0",
     "output_type": "error",
     "traceback": [
      "An exception has occurred, use %tb to see the full traceback.\n",
      "\u001b[1;31mSystemExit\u001b[0m\u001b[1;31m:\u001b[0m 0\n"
     ]
    },
    {
     "name": "stderr",
     "output_type": "stream",
     "text": [
      "C:\\Users\\jhara\\AppData\\Local\\Programs\\Python\\Python311\\Lib\\site-packages\\IPython\\core\\interactiveshell.py:3585: UserWarning: To exit: use 'exit', 'quit', or Ctrl-D.\n",
      "  warn(\"To exit: use 'exit', 'quit', or Ctrl-D.\", stacklevel=1)\n"
     ]
    }
   ],
   "source": [
    "model = models.load_model('Age_Gender_Detection.keras')\n",
    "\n",
    "class AgeGenderDetectorApp(QWidget):\n",
    "    def __init__(self):\n",
    "        super().__init__()\n",
    "\n",
    "        #### set window properties\n",
    "        self.setWindowTitle(\"AGE & GENDER DETECTOR\")\n",
    "        self.setGeometry(100, 100, 600, 800)\n",
    "        self.setStyleSheet(\"background-color: #1ABC9C;\")\n",
    "\n",
    "        #### Create labels\n",
    "        self.heading = QLabel(\"AGE & GENDER DETECTOR\", self)\n",
    "        self.heading.setStyleSheet(\"font: bold 30px Arial; color: #FFFFFF; padding: 20px;\")\n",
    "        self.heading.setAlignment(Qt.AlignCenter)\n",
    "\n",
    "        self.image_label = QLabel(self) \n",
    "        self.image_label.setStyleSheet(\"background-color: #1ABC9C; font: bold 15px Arial;\")\n",
    "        self.image_label.setAlignment(Qt.AlignCenter)\n",
    "\n",
    "        self.label1 = QLabel(self)\n",
    "        self.label1.setStyleSheet(\"background-color: #1ABC9C; font: bold 15px Arial;\")\n",
    "        self.label1.setAlignment(Qt.AlignCenter)\n",
    "\n",
    "        self.label2 = QLabel(self)\n",
    "        self.label2.setStyleSheet(\"background-color: #1ABC9C; font: bold 15px Arial;\")\n",
    "        self.label2.setAlignment(Qt.AlignCenter)\n",
    "\n",
    "        #### Layout setup\n",
    "        self.layout = QVBoxLayout()\n",
    "        self.layout.addWidget(self.heading)\n",
    "        self.layout.addWidget(self.image_label)  \n",
    "        self.layout.addWidget(self.label1)\n",
    "        self.layout.addWidget(self.label2)\n",
    "\n",
    "        #### Upload button\n",
    "        self.upload_button = QPushButton(\"Upload an Image\", self)\n",
    "        self.upload_button.setStyleSheet(\"background-color: #364156; color: white; font: bold 15px; padding: 10px;\")\n",
    "        self.upload_button.clicked.connect(self.upload_image)\n",
    "        self.layout.addWidget(self.upload_button)\n",
    "\n",
    "        #### Set layout\n",
    "        self.setLayout(self.layout)\n",
    "        self.detect_button = None  \n",
    "\n",
    "    ##### Detect function\n",
    "    def Detect(self, file_path):\n",
    "        image = Image.open(file_path)\n",
    "        image = image.resize((48, 48))\n",
    "        image = np.expand_dims(image, axis=0)\n",
    "        image = np.array(image)\n",
    "        image = np.delete(image, 0, 1)\n",
    "        image = np.resize(image, (48, 48, 3))\n",
    "\n",
    "        print(image.shape)\n",
    "        sex_f = [\"Male\", \"Female\"]\n",
    "        image = np.array([image]) / 255\n",
    "        pred = model.predict(image)\n",
    "        age = int(np.round(pred[1][0]))\n",
    "        sex = int(np.round(pred[0][0]))\n",
    "\n",
    "        print(\"Predicted Age is : \" + str(age))\n",
    "        print(\"Predicted Gender is : \" + sex_f[sex])\n",
    "\n",
    "        self.label1.setText(f\"Predicted Age: {age}\")\n",
    "        self.label2.setText(f\"Predicted Gender: {sex_f[sex]}\")\n",
    "\n",
    "    ##### Show Detect button\n",
    "    def show_Detect_button(self, file_path):\n",
    "        if self.detect_button:\n",
    "            self.layout.removeWidget(self.detect_button)\n",
    "            self.detect_button.deleteLater()\n",
    "            self.detect_button = None\n",
    "\n",
    "        #### Create and add a new detect button\n",
    "        self.detect_button = QPushButton(\"Detect Image\", self)\n",
    "        self.detect_button.setStyleSheet(\"background-color: #1F618D; color: white; font: bold 15px; padding: 10px;\")\n",
    "        self.detect_button.clicked.connect(lambda: self.Detect(file_path))\n",
    "        self.layout.addWidget(self.detect_button)\n",
    "\n",
    "    ##### Upload Image function\n",
    "    def upload_image(self):\n",
    "        file_path, _ = QFileDialog.getOpenFileName(self, \"Upload Image\", \"\", \"Image Files (*.png *.jpg *.jpeg)\")\n",
    "        if file_path:\n",
    "            pixmap = QPixmap(file_path)\n",
    "            self.image_label.setPixmap(pixmap.scaled(400, 400, Qt.KeepAspectRatio))  \n",
    "\n",
    "            self.show_Detect_button(file_path) \n",
    "\n",
    "\n",
    "##### Main function to start the application\n",
    "if __name__ == '__main__':\n",
    "    app = QApplication(sys.argv)\n",
    "    window = AgeGenderDetectorApp()\n",
    "    window.show()\n",
    "    sys.exit(app.exec_())\n"
   ]
  }
 ],
 "metadata": {
  "kernelspec": {
   "display_name": "Python 3 (ipykernel)",
   "language": "python",
   "name": "python3"
  },
  "language_info": {
   "codemirror_mode": {
    "name": "ipython",
    "version": 3
   },
   "file_extension": ".py",
   "mimetype": "text/x-python",
   "name": "python",
   "nbconvert_exporter": "python",
   "pygments_lexer": "ipython3",
   "version": "3.11.1"
  }
 },
 "nbformat": 4,
 "nbformat_minor": 5
}
